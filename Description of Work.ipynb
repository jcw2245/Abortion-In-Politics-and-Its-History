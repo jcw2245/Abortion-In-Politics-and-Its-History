{
 "cells": [
  {
   "cell_type": "markdown",
   "id": "0e599acd-ad5a-4947-a371-5ce264782f30",
   "metadata": {},
   "source": [
    "Abortion Rates and the Influence of Politics"
   ]
  },
  {
   "cell_type": "markdown",
   "id": "c7e86680-c99f-4b52-bcbb-a522beaa931b",
   "metadata": {},
   "source": [
    "I aimed to accomplish two charts that worked well together, and the main goal was to make sure that everything works and to understand the assignment. This was also my first time doing a story like this without an interview, so I had to look for sources and write somewhat of a story without the dependence on a point of view."
   ]
  },
  {
   "cell_type": "markdown",
   "id": "a421b3fa-bd4a-4755-aab9-20c502000dc3",
   "metadata": {},
   "source": [
    "For the data, I had to pay close attention as there were some errors in the dataset itself. It was easy to go through once I figured out the problems which were different reportings from different sources and accidental doubles in numbers. I chose to take out the reports that were used only a few times and to stick with the U.S. Department of Health and Human Services because this can be easily fact-checked, which I then did. After this, it took out a few years and I was left with the dates 2000 - 2014. I used this because it showed a drop in abortion rates. I then did my own research and used the CDC to gather the latest data from 2015 on to fill in what I had to take out. Both came from credible sources. I also made it clear that the data came from the CDC with what was available. "
   ]
  },
  {
   "cell_type": "markdown",
   "id": "8cee5ef7-a51d-48c8-b817-58579ae94622",
   "metadata": {},
   "source": [
    "This project allowed me to use DataWrapper more, which I have not done much of. It mostly helped me go through methological choices towards data like this because it took me a few times to go through and figure out what exactly I could use and what every part meant in the data. I also received practice on how to do my own gathering and make my own dataset, but with credible sources. This is something that will be part of my job in the future, but I have not had to do yet to this extent. "
   ]
  },
  {
   "cell_type": "markdown",
   "id": "bfcdb077-0453-448f-9fd8-1a5cf6e2aa04",
   "metadata": {},
   "source": [
    "I want to continue this project writing-wise mostly. I know this served little purpose into this first project, but I think it needs more interviews and backstory. I also want to switch one of the charts to something other than a bar chart, but leaned on these as this is what I am most familiar with and other charts made it seem like there was much of a difference for the recent years, which to me seemed misleading. I think I need more understanding into what to do when a person is trying to point out similarities as most charts point out differences. "
   ]
  }
 ],
 "metadata": {
  "kernelspec": {
   "display_name": "Python 3 (ipykernel)",
   "language": "python",
   "name": "python3"
  },
  "language_info": {
   "codemirror_mode": {
    "name": "ipython",
    "version": 3
   },
   "file_extension": ".py",
   "mimetype": "text/x-python",
   "name": "python",
   "nbconvert_exporter": "python",
   "pygments_lexer": "ipython3",
   "version": "3.12.7"
  }
 },
 "nbformat": 4,
 "nbformat_minor": 5
}
